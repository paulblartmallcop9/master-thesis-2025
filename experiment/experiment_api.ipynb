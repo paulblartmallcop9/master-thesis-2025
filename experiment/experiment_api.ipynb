{
  "nbformat": 4,
  "nbformat_minor": 0,
  "metadata": {
    "colab": {
      "provenance": []
    },
    "kernelspec": {
      "name": "python3",
      "display_name": "Python 3"
    },
    "language_info": {
      "name": "python"
    }
  },
  "cells": [
    {
      "cell_type": "markdown",
      "source": [
        "# Experiment LLM using API\n",
        "\n"
      ],
      "metadata": {
        "id": "i5gO6xjCukrU"
      }
    },
    {
      "cell_type": "markdown",
      "source": [
        "### API key"
      ],
      "metadata": {
        "id": "kTy0KQwdu7RE"
      }
    },
    {
      "cell_type": "code",
      "source": [
        "import openai\n",
        "\n",
        "# set API key\n",
        "client = openai.OpenAI(api_key=\"\")  # fill in API key"
      ],
      "metadata": {
        "id": "R-bHTWkCukb9"
      },
      "execution_count": null,
      "outputs": []
    },
    {
      "cell_type": "markdown",
      "source": [
        "### Prompt categories"
      ],
      "metadata": {
        "id": "t5tfYV3IvAIL"
      }
    },
    {
      "cell_type": "code",
      "source": [
        "# Zero-shot category\n",
        "def prompt_zero_shot(puzzle):\n",
        "    return f\"\"\"Los het volgende taalkundige raadsel op. Het bevat drie aanwijzingen en het antwoord is één woord dat op alle drie van toepassing is. Geef het antwoord op de eerste regel en daarna een korte uitleg.\n",
        "\n",
        "Vraag: {puzzle}. Wat is het?\n",
        "Antwoord:\"\"\"\n",
        "\n",
        "# One-shot category\n",
        "def prompt_one_shot(puzzle):\n",
        "    return f\"\"\"Los het volgende taalkundige raadsel op. Het bevat drie aanwijzingen en het antwoord is één woord dat op alle drie van toepassing is. Geef het antwoord op de eerste regel en daarna een korte uitleg. Eerst een voorbeeld, daarna een nieuw raadsel.\n",
        "\n",
        "Voorbeeld:\n",
        "Vraag: Het is een onderdeel van een schip, een bevestigingsmiddel, en een gymnastiekoefening. Wat is het?\n",
        "Antwoord: Schroef.\n",
        "\n",
        "Nu het raadsel:\n",
        "Vraag: {puzzle}. Wat is het?\n",
        "Antwoord:\"\"\"\n",
        "\n",
        "# Three-shot category\n",
        "def prompt_three_shot(puzzle):\n",
        "    return f\"\"\"Los het volgende taalkundige raadsel op. Het bevat drie aanwijzingen en het antwoord is één woord dat op alle drie van toepassing is. Geef het antwoord op de eerste regel en daarna een korte uitleg. Eerst drie voorbeelden, dan een nieuw raadsel.\n",
        "\n",
        "Voorbeeld 1:\n",
        "Vraag: Het is een onderdeel van een schip, een bevestigingsmiddel, en een gymnastiekoefening. Wat is het?\n",
        "Antwoord: Schroef.\n",
        "\n",
        "Voorbeeld 2:\n",
        "Vraag: Het is een winkelketen, een beroep, en een onderdeel van een schip. Wat is het?\n",
        "Antwoord: Zeeman.\n",
        "\n",
        "Voorbeeld 3:\n",
        "Vraag: Het is seksuele anatomie, een beledigend woord, en een vrucht. Wat is het?\n",
        "Antwoord: Eikel.\n",
        "\n",
        "Raadsel:\n",
        "Vraag: {puzzle}. Wat is het?\n",
        "Antwoord:\"\"\""
      ],
      "metadata": {
        "id": "wadBNwScvATc"
      },
      "execution_count": null,
      "outputs": []
    },
    {
      "cell_type": "markdown",
      "source": [
        "### Define Files"
      ],
      "metadata": {
        "id": "hN9np9qAvUjz"
      }
    },
    {
      "cell_type": "code",
      "source": [
        "# File used for experiment\n",
        "infile = \"test_puzzles.txt\" # set infile\n",
        "\n",
        "# File used to save results\n",
        "outfile = \"results_test.txt\" # set outfile"
      ],
      "metadata": {
        "id": "Vcu__8ybvUvr"
      },
      "execution_count": null,
      "outputs": []
    },
    {
      "cell_type": "markdown",
      "source": [
        "### Run API"
      ],
      "metadata": {
        "id": "BouDE3vwxPM0"
      }
    },
    {
      "cell_type": "code",
      "source": [
        "import ast\n",
        "\n",
        "\n",
        "# Read file\n",
        "def getData(file):\n",
        "    with open(file, \"r\", encoding=\"utf-8\") as f:\n",
        "        return f.readlines()\n",
        "\n",
        "# Write file\n",
        "def writeData(file, data):\n",
        "    with open(file, \"w\", encoding=\"utf-8\") as f:\n",
        "        for line in data:\n",
        "            f.write(f\"{line}\\n\")\n",
        "\n",
        "# Load data from infile\n",
        "data = getData(infile)\n",
        "\n",
        "results = []\n",
        "correct = 0\n",
        "for i, page in enumerate(data, 1):\n",
        "    load = ast.literal_eval(page)\n",
        "    puzzle = load[\"prompt\"]\n",
        "    answer = load[\"answer\"].strip().lower()\n",
        "\n",
        "    # Set prompt category\n",
        "    prompt = prompt_three_shot(puzzle) # set shot category\n",
        "\n",
        "    print(f\"Processing: {i+1}/{len(data)}\")\n",
        "\n",
        "    try:\n",
        "        # Generate output\n",
        "        response = client.chat.completions.create(\n",
        "            model=\"o4-mini\", # set model\n",
        "            messages=[\n",
        "                {\"role\": \"system\", \"content\": \"Je bent een taalexpert die raadsels oplost.\"},\n",
        "                {\"role\": \"user\", \"content\": prompt}\n",
        "            ]\n",
        "        )\n",
        "        result = response.choices[0].message.content.strip()\n",
        "\n",
        "        # Evaluate result\n",
        "        if answer in predicted.strip().lower():\n",
        "            correct += 1\n",
        "\n",
        "        results.append({\"prompt\": puzzle, \"answer\": answer, \"result\": result})\n",
        "\n",
        "    except Exception as e:\n",
        "        print(f\"Error at prompt {i}: {e}\")\n",
        "        results.append({\n",
        "            \"prompt\": puzzle,\n",
        "            \"expected\": answer,\n",
        "            \"predicted\": \"ERROR\",\n",
        "            \"full_response\": str(e)\n",
        "        })\n",
        "\n",
        "print(f\"Correct: {correct}/{len(data)}\")\n",
        "\n",
        "# Export results\n",
        "writeData(outfile, [str(r) for r in results])"
      ],
      "metadata": {
        "id": "uxARjg3r3KYP"
      },
      "execution_count": null,
      "outputs": []
    }
  ]
}
